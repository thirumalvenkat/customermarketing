{
  "nbformat": 4,
  "nbformat_minor": 0,
  "metadata": {
    "colab": {
      "name": "bankreco.ipynb",
      "provenance": [],
      "authorship_tag": "ABX9TyOziA79segnYJEH3u0hRg1Y",
      "include_colab_link": true
    },
    "kernelspec": {
      "display_name": "Python 3",
      "language": "python",
      "name": "python3"
    },
    "language_info": {
      "codemirror_mode": {
        "name": "ipython",
        "version": 3
      },
      "file_extension": ".py",
      "mimetype": "text/x-python",
      "name": "python",
      "nbconvert_exporter": "python",
      "pygments_lexer": "ipython3",
      "version": "3.7.4"
    }
  },
  "cells": [
    {
      "cell_type": "markdown",
      "metadata": {
        "id": "view-in-github",
        "colab_type": "text"
      },
      "source": [
        "<a href=\"https://colab.research.google.com/github/thirumalvenkat/customermarketing/blob/master/bank_product_reco.ipynb\" target=\"_parent\"><img src=\"https://colab.research.google.com/assets/colab-badge.svg\" alt=\"Open In Colab\"/></a>"
      ]
    },
    {
      "cell_type": "code",
      "metadata": {
        "colab_type": "code",
        "id": "7sgooizHyqpj",
        "outputId": "889bcb9b-21f9-46e5-d689-ea970997d855",
        "colab": {
          "base_uri": "https://localhost:8080/",
          "height": 802
        }
      },
      "source": [
        "!pip install pandas-profiling\n",
        "!pip install lime"
      ],
      "execution_count": 0,
      "outputs": [
        {
          "output_type": "stream",
          "text": [
            "Requirement already satisfied: pandas-profiling in /usr/local/lib/python3.6/dist-packages (1.4.1)\n",
            "Requirement already satisfied: six>=1.9 in /usr/local/lib/python3.6/dist-packages (from pandas-profiling) (1.12.0)\n",
            "Requirement already satisfied: matplotlib>=1.4 in /usr/local/lib/python3.6/dist-packages (from pandas-profiling) (3.2.1)\n",
            "Requirement already satisfied: jinja2>=2.8 in /usr/local/lib/python3.6/dist-packages (from pandas-profiling) (2.11.1)\n",
            "Requirement already satisfied: pandas>=0.19 in /usr/local/lib/python3.6/dist-packages (from pandas-profiling) (0.25.3)\n",
            "Requirement already satisfied: python-dateutil>=2.1 in /usr/local/lib/python3.6/dist-packages (from matplotlib>=1.4->pandas-profiling) (2.8.1)\n",
            "Requirement already satisfied: numpy>=1.11 in /usr/local/lib/python3.6/dist-packages (from matplotlib>=1.4->pandas-profiling) (1.18.2)\n",
            "Requirement already satisfied: cycler>=0.10 in /usr/local/lib/python3.6/dist-packages (from matplotlib>=1.4->pandas-profiling) (0.10.0)\n",
            "Requirement already satisfied: pyparsing!=2.0.4,!=2.1.2,!=2.1.6,>=2.0.1 in /usr/local/lib/python3.6/dist-packages (from matplotlib>=1.4->pandas-profiling) (2.4.6)\n",
            "Requirement already satisfied: kiwisolver>=1.0.1 in /usr/local/lib/python3.6/dist-packages (from matplotlib>=1.4->pandas-profiling) (1.1.0)\n",
            "Requirement already satisfied: MarkupSafe>=0.23 in /usr/local/lib/python3.6/dist-packages (from jinja2>=2.8->pandas-profiling) (1.1.1)\n",
            "Requirement already satisfied: pytz>=2017.2 in /usr/local/lib/python3.6/dist-packages (from pandas>=0.19->pandas-profiling) (2018.9)\n",
            "Requirement already satisfied: setuptools in /usr/local/lib/python3.6/dist-packages (from kiwisolver>=1.0.1->matplotlib>=1.4->pandas-profiling) (46.0.0)\n",
            "Collecting lime\n",
            "\u001b[?25l  Downloading https://files.pythonhosted.org/packages/b5/e0/60070b461a589b2fee0dbc45df9987f150fca83667c2f8a064cef7dbac6b/lime-0.1.1.37.tar.gz (275kB)\n",
            "\u001b[K     |████████████████████████████████| 276kB 2.8MB/s \n",
            "\u001b[?25hRequirement already satisfied: numpy in /usr/local/lib/python3.6/dist-packages (from lime) (1.18.2)\n",
            "Requirement already satisfied: scipy in /usr/local/lib/python3.6/dist-packages (from lime) (1.4.1)\n",
            "Collecting progressbar\n",
            "  Downloading https://files.pythonhosted.org/packages/a3/a6/b8e451f6cff1c99b4747a2f7235aa904d2d49e8e1464e0b798272aa84358/progressbar-2.5.tar.gz\n",
            "Requirement already satisfied: scikit-learn>=0.18 in /usr/local/lib/python3.6/dist-packages (from lime) (0.22.2.post1)\n",
            "Requirement already satisfied: matplotlib in /usr/local/lib/python3.6/dist-packages (from lime) (3.2.1)\n",
            "Requirement already satisfied: scikit-image>=0.12 in /usr/local/lib/python3.6/dist-packages (from lime) (0.16.2)\n",
            "Requirement already satisfied: joblib>=0.11 in /usr/local/lib/python3.6/dist-packages (from scikit-learn>=0.18->lime) (0.14.1)\n",
            "Requirement already satisfied: pyparsing!=2.0.4,!=2.1.2,!=2.1.6,>=2.0.1 in /usr/local/lib/python3.6/dist-packages (from matplotlib->lime) (2.4.6)\n",
            "Requirement already satisfied: cycler>=0.10 in /usr/local/lib/python3.6/dist-packages (from matplotlib->lime) (0.10.0)\n",
            "Requirement already satisfied: kiwisolver>=1.0.1 in /usr/local/lib/python3.6/dist-packages (from matplotlib->lime) (1.1.0)\n",
            "Requirement already satisfied: python-dateutil>=2.1 in /usr/local/lib/python3.6/dist-packages (from matplotlib->lime) (2.8.1)\n",
            "Requirement already satisfied: imageio>=2.3.0 in /usr/local/lib/python3.6/dist-packages (from scikit-image>=0.12->lime) (2.4.1)\n",
            "Requirement already satisfied: networkx>=2.0 in /usr/local/lib/python3.6/dist-packages (from scikit-image>=0.12->lime) (2.4)\n",
            "Requirement already satisfied: pillow>=4.3.0 in /usr/local/lib/python3.6/dist-packages (from scikit-image>=0.12->lime) (7.0.0)\n",
            "Requirement already satisfied: PyWavelets>=0.4.0 in /usr/local/lib/python3.6/dist-packages (from scikit-image>=0.12->lime) (1.1.1)\n",
            "Requirement already satisfied: six in /usr/local/lib/python3.6/dist-packages (from cycler>=0.10->matplotlib->lime) (1.12.0)\n",
            "Requirement already satisfied: setuptools in /usr/local/lib/python3.6/dist-packages (from kiwisolver>=1.0.1->matplotlib->lime) (46.0.0)\n",
            "Requirement already satisfied: decorator>=4.3.0 in /usr/local/lib/python3.6/dist-packages (from networkx>=2.0->scikit-image>=0.12->lime) (4.4.2)\n",
            "Building wheels for collected packages: lime, progressbar\n",
            "  Building wheel for lime (setup.py) ... \u001b[?25l\u001b[?25hdone\n",
            "  Created wheel for lime: filename=lime-0.1.1.37-cp36-none-any.whl size=284277 sha256=6d46ea4d756c5212edc9976abb69071b3be0a852a6e4b0d94a25d073d0539259\n",
            "  Stored in directory: /root/.cache/pip/wheels/c1/38/e7/50d75d4fb75afa604570dc42f20c5c5f5ab26d3fbe8d6ef27b\n",
            "  Building wheel for progressbar (setup.py) ... \u001b[?25l\u001b[?25hdone\n",
            "  Created wheel for progressbar: filename=progressbar-2.5-cp36-none-any.whl size=12074 sha256=3a94153c1636353243a9a503ceba7bc568859c60d6eeeedff0deeb45e2e1ce39\n",
            "  Stored in directory: /root/.cache/pip/wheels/c0/e9/6b/ea01090205e285175842339aa3b491adeb4015206cda272ff0\n",
            "Successfully built lime progressbar\n",
            "Installing collected packages: progressbar, lime\n",
            "Successfully installed lime-0.1.1.37 progressbar-2.5\n"
          ],
          "name": "stdout"
        }
      ]
    },
    {
      "cell_type": "code",
      "metadata": {
        "colab_type": "code",
        "id": "KODtr1OHzV9W",
        "colab": {}
      },
      "source": [
        "# ONLY RUN IF YOU ARE IN A COLAB NOTEBOOK.\n",
        "from google.colab import auth\n",
        "auth.authenticate_user()"
      ],
      "execution_count": 0,
      "outputs": []
    },
    {
      "cell_type": "code",
      "metadata": {
        "colab_type": "code",
        "id": "Y7i0FnwZzZms",
        "outputId": "7aeda211-277c-4354-95cd-7f03af9c2ffb",
        "colab": {
          "base_uri": "https://localhost:8080/",
          "height": 34
        }
      },
      "source": [
        "%env GOOGLE_CLOUD_PROJECT=stately-planet-181816"
      ],
      "execution_count": 0,
      "outputs": [
        {
          "output_type": "stream",
          "text": [
            "env: GOOGLE_CLOUD_PROJECT=stately-planet-181816\n"
          ],
          "name": "stdout"
        }
      ]
    },
    {
      "cell_type": "code",
      "metadata": {
        "colab_type": "code",
        "id": "N2180Eq-zjU-",
        "outputId": "49b66481-3a52-4a38-addf-348d9e6add18",
        "colab": {
          "base_uri": "https://localhost:8080/",
          "height": 34
        }
      },
      "source": [
        "!gcloud config set project $GOOGLE_CLOUD_PROJECT"
      ],
      "execution_count": 0,
      "outputs": [
        {
          "output_type": "stream",
          "text": [
            "Updated property [core/project].\n"
          ],
          "name": "stdout"
        }
      ]
    },
    {
      "cell_type": "code",
      "metadata": {
        "colab_type": "code",
        "id": "4uXinopAzlwv",
        "colab": {}
      },
      "source": [
        "!gcloud services enable ml.googleapis.com\n",
        "!gcloud services enable bigquery-json.googleapis.com"
      ],
      "execution_count": 0,
      "outputs": []
    },
    {
      "cell_type": "code",
      "metadata": {
        "colab_type": "code",
        "id": "0UHr2tHXzv6L",
        "colab": {}
      },
      "source": [
        "import os\n",
        "your_dataset = 'bank_reco'\n",
        "your_table = 'bank_deposit_pred'\n",
        "project_id = os.environ[\"GOOGLE_CLOUD_PROJECT\"]"
      ],
      "execution_count": 0,
      "outputs": []
    },
    {
      "cell_type": "code",
      "metadata": {
        "colab_type": "code",
        "id": "YSfuFe8q0IQn",
        "outputId": "e1fe33f2-aa95-48ef-8fe7-a1559ae8aa8f",
        "colab": {
          "base_uri": "https://localhost:8080/",
          "height": 68
        }
      },
      "source": [
        "!curl https://storage.googleapis.com/erwinh-public-data/bankingdata/bank-full.csv --output banking_deposit_pred_data.csv"
      ],
      "execution_count": 0,
      "outputs": [
        {
          "output_type": "stream",
          "text": [
            "  % Total    % Received % Xferd  Average Speed   Time    Time     Time  Current\n",
            "                                 Dload  Upload   Total   Spent    Left  Speed\n",
            "\r  0     0    0     0    0     0      0      0 --:--:-- --:--:-- --:--:--     0\r100 4502k  100 4502k    0     0  10.1M      0 --:--:-- --:--:-- --:--:-- 10.1M\n"
          ],
          "name": "stdout"
        }
      ]
    },
    {
      "cell_type": "code",
      "metadata": {
        "colab_type": "code",
        "id": "Tgmrfcea0QB6",
        "outputId": "7b24ceb7-4fd9-4eab-e1ca-df7a2ddd97eb",
        "colab": {
          "base_uri": "https://localhost:8080/",
          "height": 459
        }
      },
      "source": [
        "!bq load --autodetect --source_format=CSV --field_delimiter ';' --skip_leading_rows=1 --replace {your_dataset}.{your_table} banking_deposit_pred_data.csv"
      ],
      "execution_count": 0,
      "outputs": [
        {
          "output_type": "stream",
          "text": [
            "\n",
            "Welcome to BigQuery! This script will walk you through the \n",
            "process of initializing your .bigqueryrc configuration file.\n",
            "\n",
            "First, we need to set up your credentials if they do not \n",
            "already exist.\n",
            "\n",
            "Credential creation complete. Now we will select a default project.\n",
            "\n",
            "List of projects:\n",
            "  #         projectId            friendlyName    \n",
            " --- ------------------------ ------------------ \n",
            "  1   customer-support-bac47   Customer-Support  \n",
            "  2   ind-coe                  IND COE           \n",
            "  3   silicon-stock-246208     NextBestAction    \n",
            "  4   stately-planet-181816    thirumal-gcp-coe  \n",
            "Found multiple projects. Please enter a selection for \n",
            "which should be the default, or leave blank to not \n",
            "set a default.\n",
            "\n",
            "Enter a selection (1 - 4): 4\n",
            "\n",
            "BigQuery configuration complete! Type \"bq\" to get started.\n",
            "\n",
            "Upload complete.\n",
            "Waiting on bqjob_r2feca19358c254ac_00000171160d7443_1 ... (2s) Current status: DONE   \n"
          ],
          "name": "stdout"
        }
      ]
    },
    {
      "cell_type": "markdown",
      "metadata": {
        "colab_type": "text",
        "id": "W9rQ2Gqa0us8"
      },
      "source": [
        "### **01 - Fetching data**"
      ]
    },
    {
      "cell_type": "code",
      "metadata": {
        "colab_type": "code",
        "id": "dnaR0-0o0Ym9",
        "colab": {}
      },
      "source": [
        "#import pandas and bigquery library\n",
        "\n",
        "import pandas as pd\n",
        "from google.cloud import bigquery as bq"
      ],
      "execution_count": 0,
      "outputs": []
    },
    {
      "cell_type": "code",
      "metadata": {
        "colab_type": "code",
        "id": "ppQ_bZvV04CB",
        "outputId": "3d50fa4e-66be-4a9e-ff74-f3b47d260c2e",
        "colab": {
          "base_uri": "https://localhost:8080/",
          "height": 576
        }
      },
      "source": [
        "# Execute the query and converts the result into a Dataframe\n",
        "\n",
        "client = bq.Client(project=project_id)\n",
        "df = client.query('''\n",
        "  SELECT\n",
        "    *\n",
        "  FROM\n",
        "    `%s.%s`\n",
        "''' % (your_dataset, your_table)).to_dataframe()\n",
        "\n",
        "df.head(3).T"
      ],
      "execution_count": 0,
      "outputs": [
        {
          "output_type": "execute_result",
          "data": {
            "text/html": [
              "<div>\n",
              "<style scoped>\n",
              "    .dataframe tbody tr th:only-of-type {\n",
              "        vertical-align: middle;\n",
              "    }\n",
              "\n",
              "    .dataframe tbody tr th {\n",
              "        vertical-align: top;\n",
              "    }\n",
              "\n",
              "    .dataframe thead th {\n",
              "        text-align: right;\n",
              "    }\n",
              "</style>\n",
              "<table border=\"1\" class=\"dataframe\">\n",
              "  <thead>\n",
              "    <tr style=\"text-align: right;\">\n",
              "      <th></th>\n",
              "      <th>0</th>\n",
              "      <th>1</th>\n",
              "      <th>2</th>\n",
              "    </tr>\n",
              "  </thead>\n",
              "  <tbody>\n",
              "    <tr>\n",
              "      <th>age</th>\n",
              "      <td>42</td>\n",
              "      <td>56</td>\n",
              "      <td>44</td>\n",
              "    </tr>\n",
              "    <tr>\n",
              "      <th>job</th>\n",
              "      <td>admin.</td>\n",
              "      <td>admin.</td>\n",
              "      <td>admin.</td>\n",
              "    </tr>\n",
              "    <tr>\n",
              "      <th>marital</th>\n",
              "      <td>single</td>\n",
              "      <td>married</td>\n",
              "      <td>married</td>\n",
              "    </tr>\n",
              "    <tr>\n",
              "      <th>education</th>\n",
              "      <td>secondary</td>\n",
              "      <td>secondary</td>\n",
              "      <td>secondary</td>\n",
              "    </tr>\n",
              "    <tr>\n",
              "      <th>default</th>\n",
              "      <td>False</td>\n",
              "      <td>False</td>\n",
              "      <td>False</td>\n",
              "    </tr>\n",
              "    <tr>\n",
              "      <th>balance</th>\n",
              "      <td>-247</td>\n",
              "      <td>1270</td>\n",
              "      <td>4826</td>\n",
              "    </tr>\n",
              "    <tr>\n",
              "      <th>housing</th>\n",
              "      <td>True</td>\n",
              "      <td>True</td>\n",
              "      <td>True</td>\n",
              "    </tr>\n",
              "    <tr>\n",
              "      <th>loan</th>\n",
              "      <td>True</td>\n",
              "      <td>False</td>\n",
              "      <td>False</td>\n",
              "    </tr>\n",
              "    <tr>\n",
              "      <th>contact</th>\n",
              "      <td>telephone</td>\n",
              "      <td>cellular</td>\n",
              "      <td>cellular</td>\n",
              "    </tr>\n",
              "    <tr>\n",
              "      <th>day</th>\n",
              "      <td>21</td>\n",
              "      <td>17</td>\n",
              "      <td>17</td>\n",
              "    </tr>\n",
              "    <tr>\n",
              "      <th>month</th>\n",
              "      <td>oct</td>\n",
              "      <td>nov</td>\n",
              "      <td>nov</td>\n",
              "    </tr>\n",
              "    <tr>\n",
              "      <th>duration</th>\n",
              "      <td>519</td>\n",
              "      <td>80</td>\n",
              "      <td>102</td>\n",
              "    </tr>\n",
              "    <tr>\n",
              "      <th>campaign</th>\n",
              "      <td>1</td>\n",
              "      <td>2</td>\n",
              "      <td>1</td>\n",
              "    </tr>\n",
              "    <tr>\n",
              "      <th>pdays</th>\n",
              "      <td>166</td>\n",
              "      <td>165</td>\n",
              "      <td>185</td>\n",
              "    </tr>\n",
              "    <tr>\n",
              "      <th>previous</th>\n",
              "      <td>1</td>\n",
              "      <td>2</td>\n",
              "      <td>4</td>\n",
              "    </tr>\n",
              "    <tr>\n",
              "      <th>poutcome</th>\n",
              "      <td>other</td>\n",
              "      <td>other</td>\n",
              "      <td>other</td>\n",
              "    </tr>\n",
              "    <tr>\n",
              "      <th>y</th>\n",
              "      <td>True</td>\n",
              "      <td>False</td>\n",
              "      <td>False</td>\n",
              "    </tr>\n",
              "  </tbody>\n",
              "</table>\n",
              "</div>"
            ],
            "text/plain": [
              "                   0          1          2\n",
              "age               42         56         44\n",
              "job           admin.     admin.     admin.\n",
              "marital       single    married    married\n",
              "education  secondary  secondary  secondary\n",
              "default        False      False      False\n",
              "balance         -247       1270       4826\n",
              "housing         True       True       True\n",
              "loan            True      False      False\n",
              "contact    telephone   cellular   cellular\n",
              "day               21         17         17\n",
              "month            oct        nov        nov\n",
              "duration         519         80        102\n",
              "campaign           1          2          1\n",
              "pdays            166        165        185\n",
              "previous           1          2          4\n",
              "poutcome       other      other      other\n",
              "y               True      False      False"
            ]
          },
          "metadata": {
            "tags": []
          },
          "execution_count": 8
        }
      ]
    },
    {
      "cell_type": "code",
      "metadata": {
        "colab_type": "code",
        "id": "fllps-9v07az",
        "colab": {}
      },
      "source": [
        ""
      ],
      "execution_count": 0,
      "outputs": []
    },
    {
      "cell_type": "markdown",
      "metadata": {
        "colab_type": "text",
        "id": "8wplNM-c1Au-"
      },
      "source": [
        "## **02 - Data Exploration**"
      ]
    },
    {
      "cell_type": "code",
      "metadata": {
        "colab_type": "code",
        "id": "j4NvRMbG1H8_",
        "colab": {}
      },
      "source": [
        "import pandas_profiling as pp"
      ],
      "execution_count": 0,
      "outputs": []
    },
    {
      "cell_type": "code",
      "metadata": {
        "colab_type": "code",
        "id": "45MBNkJY1Ljm",
        "colab": {}
      },
      "source": [
        "#pp.ProfileReport(df)"
      ],
      "execution_count": 0,
      "outputs": []
    },
    {
      "cell_type": "code",
      "metadata": {
        "colab_type": "code",
        "id": "oqNT5T-Y1PCg",
        "colab": {}
      },
      "source": [
        "from sklearn.model_selection import StratifiedShuffleSplit\n",
        "\n",
        "#Here we apply a shuffle and stratified split to create a train and test set.\n",
        "split = StratifiedShuffleSplit(n_splits=1, test_size=0.2, random_state=40)\n",
        "for train_index, test_index in split.split(df, df[\"y\"]):\n",
        "    strat_train_set = df.loc[train_index]\n",
        "    strat_test_set = df.loc[test_index]"
      ],
      "execution_count": 0,
      "outputs": []
    },
    {
      "cell_type": "markdown",
      "metadata": {
        "colab_type": "text",
        "id": "jIPmHejDCy4S"
      },
      "source": [
        "## 03 - Feature Engineering"
      ]
    },
    {
      "cell_type": "code",
      "metadata": {
        "colab_type": "code",
        "id": "VI9Qc58dDBOq",
        "colab": {}
      },
      "source": [
        "import matplotlib.pyplot as plt\n",
        "import numpy as np\n",
        "\n",
        "from sklearn.preprocessing import LabelEncoder\n",
        "from sklearn.preprocessing import StandardScaler"
      ],
      "execution_count": 0,
      "outputs": []
    },
    {
      "cell_type": "code",
      "metadata": {
        "colab_type": "code",
        "id": "OhEIymc0DI5P",
        "colab": {}
      },
      "source": [
        "def return_features_and_label(df):\n",
        "    \"\"\"returns features and label given argument dataframe\"\"\"\n",
        "    \n",
        "    # Get all the columns except \"y\". It's also possible to exclude other columns\n",
        "    X = df.drop(\"y\", axis=1)\n",
        "    \n",
        "    Y = df[\"y\"].copy ()\n",
        "    # Convert our label to an integer\n",
        "    Y = LabelEncoder().fit_transform(Y) \n",
        "    return X, Y"
      ],
      "execution_count": 0,
      "outputs": []
    },
    {
      "cell_type": "code",
      "metadata": {
        "colab_type": "code",
        "id": "5fkMTqCZDV4E",
        "colab": {}
      },
      "source": [
        "def data_pipeline(df):\n",
        "    \"\"\"Normalizes and converts data and returns dataframe \"\"\"\n",
        "  \n",
        "    num_cols = df.select_dtypes(include=np.number).columns\n",
        "    cat_cols = list(set(df.columns) - set(num_cols))\n",
        "    # Normalize Numeric Data\n",
        "    df[num_cols] = StandardScaler().fit_transform(df[num_cols])\n",
        "    # Convert categorical variables to integers\n",
        "    df[cat_cols] = df[cat_cols].apply(LabelEncoder().fit_transform)\n",
        "    return df"
      ],
      "execution_count": 0,
      "outputs": []
    },
    {
      "cell_type": "code",
      "metadata": {
        "id": "zTsW8DMQl64Q",
        "colab_type": "code",
        "outputId": "0fa56fa2-85dd-4c12-c5c5-db73b2aab614",
        "colab": {
          "base_uri": "https://localhost:8080/",
          "height": 34
        }
      },
      "source": [
        "new_num_cols = train_features.select_dtypes(include=np.number).columns\n",
        "new_num_cols"
      ],
      "execution_count": 0,
      "outputs": [
        {
          "output_type": "execute_result",
          "data": {
            "text/plain": [
              "Index(['age', 'balance', 'day', 'duration', 'campaign', 'pdays', 'previous'], dtype='object')"
            ]
          },
          "metadata": {
            "tags": []
          },
          "execution_count": 20
        }
      ]
    },
    {
      "cell_type": "code",
      "metadata": {
        "id": "Spx3To_DmD2I",
        "colab_type": "code",
        "outputId": "7b2e55b2-f885-40b7-eb80-89427dcd6950",
        "colab": {
          "base_uri": "https://localhost:8080/",
          "height": 170
        }
      },
      "source": [
        "list(set(train_features.columns) - set(new_num_cols))"
      ],
      "execution_count": 0,
      "outputs": [
        {
          "output_type": "execute_result",
          "data": {
            "text/plain": [
              "['month',\n",
              " 'housing',\n",
              " 'job',\n",
              " 'default',\n",
              " 'marital',\n",
              " 'poutcome',\n",
              " 'contact',\n",
              " 'education',\n",
              " 'loan']"
            ]
          },
          "metadata": {
            "tags": []
          },
          "execution_count": 21
        }
      ]
    },
    {
      "cell_type": "code",
      "metadata": {
        "colab_type": "code",
        "id": "zrsSCOt0DLmR",
        "colab": {}
      },
      "source": [
        "train_features, train_label = return_features_and_label(strat_train_set)"
      ],
      "execution_count": 0,
      "outputs": []
    },
    {
      "cell_type": "code",
      "metadata": {
        "colab_type": "code",
        "id": "juEr3P6dDSUM",
        "colab": {}
      },
      "source": [
        "train_features_prepared = data_pipeline(train_features)"
      ],
      "execution_count": 0,
      "outputs": []
    },
    {
      "cell_type": "code",
      "metadata": {
        "colab_type": "code",
        "id": "UcrxuxRkDchu",
        "outputId": "1d2977c9-7828-4d1d-d8ea-52be737ffa94",
        "colab": {
          "base_uri": "https://localhost:8080/",
          "height": 545
        }
      },
      "source": [
        "train_features_prepared.head(3).T"
      ],
      "execution_count": 0,
      "outputs": [
        {
          "output_type": "execute_result",
          "data": {
            "text/html": [
              "<div>\n",
              "<style scoped>\n",
              "    .dataframe tbody tr th:only-of-type {\n",
              "        vertical-align: middle;\n",
              "    }\n",
              "\n",
              "    .dataframe tbody tr th {\n",
              "        vertical-align: top;\n",
              "    }\n",
              "\n",
              "    .dataframe thead th {\n",
              "        text-align: right;\n",
              "    }\n",
              "</style>\n",
              "<table border=\"1\" class=\"dataframe\">\n",
              "  <thead>\n",
              "    <tr style=\"text-align: right;\">\n",
              "      <th></th>\n",
              "      <th>14217</th>\n",
              "      <th>27492</th>\n",
              "      <th>18251</th>\n",
              "    </tr>\n",
              "  </thead>\n",
              "  <tbody>\n",
              "    <tr>\n",
              "      <th>age</th>\n",
              "      <td>-0.271979</td>\n",
              "      <td>1.326772</td>\n",
              "      <td>-0.648155</td>\n",
              "    </tr>\n",
              "    <tr>\n",
              "      <th>job</th>\n",
              "      <td>8.000000</td>\n",
              "      <td>9.000000</td>\n",
              "      <td>7.000000</td>\n",
              "    </tr>\n",
              "    <tr>\n",
              "      <th>marital</th>\n",
              "      <td>2.000000</td>\n",
              "      <td>1.000000</td>\n",
              "      <td>2.000000</td>\n",
              "    </tr>\n",
              "    <tr>\n",
              "      <th>education</th>\n",
              "      <td>3.000000</td>\n",
              "      <td>1.000000</td>\n",
              "      <td>1.000000</td>\n",
              "    </tr>\n",
              "    <tr>\n",
              "      <th>default</th>\n",
              "      <td>0.000000</td>\n",
              "      <td>0.000000</td>\n",
              "      <td>0.000000</td>\n",
              "    </tr>\n",
              "    <tr>\n",
              "      <th>balance</th>\n",
              "      <td>-0.207265</td>\n",
              "      <td>-0.351958</td>\n",
              "      <td>0.876312</td>\n",
              "    </tr>\n",
              "    <tr>\n",
              "      <th>housing</th>\n",
              "      <td>0.000000</td>\n",
              "      <td>1.000000</td>\n",
              "      <td>1.000000</td>\n",
              "    </tr>\n",
              "    <tr>\n",
              "      <th>loan</th>\n",
              "      <td>0.000000</td>\n",
              "      <td>0.000000</td>\n",
              "      <td>1.000000</td>\n",
              "    </tr>\n",
              "    <tr>\n",
              "      <th>contact</th>\n",
              "      <td>2.000000</td>\n",
              "      <td>2.000000</td>\n",
              "      <td>0.000000</td>\n",
              "    </tr>\n",
              "    <tr>\n",
              "      <th>day</th>\n",
              "      <td>0.267121</td>\n",
              "      <td>-0.455160</td>\n",
              "      <td>-0.094020</td>\n",
              "    </tr>\n",
              "    <tr>\n",
              "      <th>month</th>\n",
              "      <td>6.000000</td>\n",
              "      <td>8.000000</td>\n",
              "      <td>8.000000</td>\n",
              "    </tr>\n",
              "    <tr>\n",
              "      <th>duration</th>\n",
              "      <td>-0.749039</td>\n",
              "      <td>0.878587</td>\n",
              "      <td>-0.888218</td>\n",
              "    </tr>\n",
              "    <tr>\n",
              "      <th>campaign</th>\n",
              "      <td>-0.568998</td>\n",
              "      <td>-0.568998</td>\n",
              "      <td>-0.568998</td>\n",
              "    </tr>\n",
              "    <tr>\n",
              "      <th>pdays</th>\n",
              "      <td>-0.410296</td>\n",
              "      <td>-0.410296</td>\n",
              "      <td>-0.410296</td>\n",
              "    </tr>\n",
              "    <tr>\n",
              "      <th>previous</th>\n",
              "      <td>-0.240959</td>\n",
              "      <td>-0.240959</td>\n",
              "      <td>-0.240959</td>\n",
              "    </tr>\n",
              "    <tr>\n",
              "      <th>poutcome</th>\n",
              "      <td>3.000000</td>\n",
              "      <td>3.000000</td>\n",
              "      <td>3.000000</td>\n",
              "    </tr>\n",
              "  </tbody>\n",
              "</table>\n",
              "</div>"
            ],
            "text/plain": [
              "              14217     27492     18251\n",
              "age       -0.271979  1.326772 -0.648155\n",
              "job        8.000000  9.000000  7.000000\n",
              "marital    2.000000  1.000000  2.000000\n",
              "education  3.000000  1.000000  1.000000\n",
              "default    0.000000  0.000000  0.000000\n",
              "balance   -0.207265 -0.351958  0.876312\n",
              "housing    0.000000  1.000000  1.000000\n",
              "loan       0.000000  0.000000  1.000000\n",
              "contact    2.000000  2.000000  0.000000\n",
              "day        0.267121 -0.455160 -0.094020\n",
              "month      6.000000  8.000000  8.000000\n",
              "duration  -0.749039  0.878587 -0.888218\n",
              "campaign  -0.568998 -0.568998 -0.568998\n",
              "pdays     -0.410296 -0.410296 -0.410296\n",
              "previous  -0.240959 -0.240959 -0.240959\n",
              "poutcome   3.000000  3.000000  3.000000"
            ]
          },
          "metadata": {
            "tags": []
          },
          "execution_count": 23
        }
      ]
    },
    {
      "cell_type": "code",
      "metadata": {
        "colab_type": "code",
        "id": "6lqbFNUFDext",
        "outputId": "6d99501d-67e3-4bb5-b2ff-f1bd005a35ab",
        "colab": {
          "base_uri": "https://localhost:8080/",
          "height": 34
        }
      },
      "source": [
        "from sklearn.feature_selection import SelectKBest, f_classif  \n",
        "\n",
        "predictors = train_features_prepared.columns\n",
        "\n",
        "# Perform feature selection where `k` (5 in this case) indicates the number of features we wish to select\n",
        "selector = SelectKBest(f_classif, k=5)\n",
        "selector.fit(train_features_prepared[predictors], train_label)"
      ],
      "execution_count": 0,
      "outputs": [
        {
          "output_type": "execute_result",
          "data": {
            "text/plain": [
              "SelectKBest(k=5, score_func=<function f_classif at 0x7f8c61d13bf8>)"
            ]
          },
          "metadata": {
            "tags": []
          },
          "execution_count": 24
        }
      ]
    },
    {
      "cell_type": "code",
      "metadata": {
        "colab_type": "code",
        "id": "ZKFS3lyLIC_o",
        "colab": {}
      },
      "source": [
        "%matplotlib inline"
      ],
      "execution_count": 0,
      "outputs": []
    },
    {
      "cell_type": "code",
      "metadata": {
        "colab_type": "code",
        "id": "_jr6cUSBDmCl",
        "outputId": "11479964-63cd-4635-d373-5f01384ebd4c",
        "colab": {
          "base_uri": "https://localhost:8080/",
          "height": 478
        }
      },
      "source": [
        "# Get the p-values from our selector for each model and convert to a logarithmic scale for easy vizualization\n",
        "importance_score = -np.log(selector.pvalues_)\n",
        "\n",
        "# Plot each column with their importance score\n",
        "plt.rcParams[\"figure.figsize\"] = [14,7]\n",
        "plt.barh(range(len(predictors)), importance_score, color='C0')\n",
        "plt.ylabel(\"Predictors\")\n",
        "plt.title(\"Importance Score\")\n",
        "plt.yticks(range(len(predictors)), predictors)\n",
        "\n",
        "plt.show()"
      ],
      "execution_count": 0,
      "outputs": [
        {
          "output_type": "stream",
          "text": [
            "/usr/local/lib/python3.6/dist-packages/ipykernel_launcher.py:1: RuntimeWarning: divide by zero encountered in log\n",
            "  \"\"\"Entry point for launching an IPython kernel.\n"
          ],
          "name": "stderr"
        },
        {
          "output_type": "display_data",
          "data": {
            "image/png": "[encoded data removed]",
            "text/plain": [
              "<Figure size 1008x504 with 1 Axes>"
            ]
          },
          "metadata": {
            "tags": []
          }
        }
      ]
    },
    {
      "cell_type": "code",
      "metadata": {
        "colab_type": "code",
        "id": "0CEkPEWTDpcv",
        "outputId": "6f83a997-776b-4305-9890-49f72c8e3db0",
        "colab": {
          "base_uri": "https://localhost:8080/",
          "height": 153
        }
      },
      "source": [
        "# Example of how to use a Tree classifier to select best features. \n",
        "\n",
        "from sklearn.ensemble import ExtraTreesClassifier\n",
        "from sklearn.feature_selection import SelectFromModel    \n",
        "\n",
        "predictors_tree = train_features_prepared.columns\n",
        "\n",
        "selector_clf = ExtraTreesClassifier(n_estimators=50, random_state=0)\n",
        "selector_clf.fit(train_features_prepared[predictors], train_label)"
      ],
      "execution_count": 0,
      "outputs": [
        {
          "output_type": "execute_result",
          "data": {
            "text/plain": [
              "ExtraTreesClassifier(bootstrap=False, ccp_alpha=0.0, class_weight=None,\n",
              "                     criterion='gini', max_depth=None, max_features='auto',\n",
              "                     max_leaf_nodes=None, max_samples=None,\n",
              "                     min_impurity_decrease=0.0, min_impurity_split=None,\n",
              "                     min_samples_leaf=1, min_samples_split=2,\n",
              "                     min_weight_fraction_leaf=0.0, n_estimators=50, n_jobs=None,\n",
              "                     oob_score=False, random_state=0, verbose=0,\n",
              "                     warm_start=False)"
            ]
          },
          "metadata": {
            "tags": []
          },
          "execution_count": 27
        }
      ]
    },
    {
      "cell_type": "code",
      "metadata": {
        "colab_type": "code",
        "id": "5RPs_7dvId_L",
        "outputId": "175a5e42-64cd-4490-8882-1c1fd9428840",
        "colab": {
          "base_uri": "https://localhost:8080/",
          "height": 444
        }
      },
      "source": [
        "# Plotting feature importance\n",
        "\n",
        "importances = selector_clf.feature_importances_\n",
        "std = np.std([tree.feature_importances_ for tree in selector_clf.estimators_],\n",
        "             axis=0)\n",
        "\n",
        "plt.rcParams[\"figure.figsize\"] = [14,7]\n",
        "plt.barh(range(len(predictors_tree)), std, color='C0')\n",
        "plt.ylabel(\"Predictors\")\n",
        "plt.title(\"Importance Score\")\n",
        "plt.yticks(range(len(predictors_tree)), predictors_tree)\n",
        "\n",
        "plt.show()"
      ],
      "execution_count": 0,
      "outputs": [
        {
          "output_type": "display_data",
          "data": {
            "image/png": "[encoded data removed]",
            "text/plain": [
              "<Figure size 1008x504 with 1 Axes>"
            ]
          },
          "metadata": {
            "tags": []
          }
        }
      ]
    },
    {
      "cell_type": "code",
      "metadata": {
        "colab_type": "code",
        "id": "01eoK-MnIhpz",
        "outputId": "7117f0a8-03ff-4a04-e075-5039b6f9fb96",
        "colab": {
          "base_uri": "https://localhost:8080/",
          "height": 204
        }
      },
      "source": [
        "# Plot the top 5 features based on the Log Score that we calculated earlier.  \n",
        "train_prepared_indexs = [count for count, selected in enumerate(selector.get_support()) if selected == True]\n",
        "\n",
        "pd.DataFrame(\n",
        "    {'Feature' : predictors[train_prepared_indexs],\n",
        "     'Original Score': selector.pvalues_[train_prepared_indexs],\n",
        "     'Log Score' : importance_score[train_prepared_indexs]\n",
        "    }\n",
        ")"
      ],
      "execution_count": 0,
      "outputs": [
        {
          "output_type": "execute_result",
          "data": {
            "text/html": [
              "<div>\n",
              "<style scoped>\n",
              "    .dataframe tbody tr th:only-of-type {\n",
              "        vertical-align: middle;\n",
              "    }\n",
              "\n",
              "    .dataframe tbody tr th {\n",
              "        vertical-align: top;\n",
              "    }\n",
              "\n",
              "    .dataframe thead th {\n",
              "        text-align: right;\n",
              "    }\n",
              "</style>\n",
              "<table border=\"1\" class=\"dataframe\">\n",
              "  <thead>\n",
              "    <tr style=\"text-align: right;\">\n",
              "      <th></th>\n",
              "      <th>Feature</th>\n",
              "      <th>Original Score</th>\n",
              "      <th>Log Score</th>\n",
              "    </tr>\n",
              "  </thead>\n",
              "  <tbody>\n",
              "    <tr>\n",
              "      <th>0</th>\n",
              "      <td>housing</td>\n",
              "      <td>1.375125e-161</td>\n",
              "      <td>370.397656</td>\n",
              "    </tr>\n",
              "    <tr>\n",
              "      <th>1</th>\n",
              "      <td>contact</td>\n",
              "      <td>7.567334e-182</td>\n",
              "      <td>417.046646</td>\n",
              "    </tr>\n",
              "    <tr>\n",
              "      <th>2</th>\n",
              "      <td>duration</td>\n",
              "      <td>0.000000e+00</td>\n",
              "      <td>inf</td>\n",
              "    </tr>\n",
              "    <tr>\n",
              "      <th>3</th>\n",
              "      <td>pdays</td>\n",
              "      <td>3.376512e-90</td>\n",
              "      <td>206.015815</td>\n",
              "    </tr>\n",
              "    <tr>\n",
              "      <th>4</th>\n",
              "      <td>previous</td>\n",
              "      <td>1.223846e-60</td>\n",
              "      <td>137.953107</td>\n",
              "    </tr>\n",
              "  </tbody>\n",
              "</table>\n",
              "</div>"
            ],
            "text/plain": [
              "    Feature  Original Score   Log Score\n",
              "0   housing   1.375125e-161  370.397656\n",
              "1   contact   7.567334e-182  417.046646\n",
              "2  duration    0.000000e+00         inf\n",
              "3     pdays    3.376512e-90  206.015815\n",
              "4  previous    1.223846e-60  137.953107"
            ]
          },
          "metadata": {
            "tags": []
          },
          "execution_count": 29
        }
      ]
    },
    {
      "cell_type": "code",
      "metadata": {
        "id": "YwxyPSIfn_9s",
        "colab_type": "code",
        "outputId": "aa4b0685-d8ab-450b-e65d-78345eea2e8b",
        "colab": {
          "base_uri": "https://localhost:8080/",
          "height": 34
        }
      },
      "source": [
        "train_prepared_indexs"
      ],
      "execution_count": 0,
      "outputs": [
        {
          "output_type": "execute_result",
          "data": {
            "text/plain": [
              "[6, 8, 11, 13, 14]"
            ]
          },
          "metadata": {
            "tags": []
          },
          "execution_count": 30
        },
        {
          "output_type": "stream",
          "text": [
            "ERROR! Session/line number was not unique in database. History logging moved to new session 59\n"
          ],
          "name": "stdout"
        }
      ]
    },
    {
      "cell_type": "code",
      "metadata": {
        "colab_type": "code",
        "id": "CQt93n38Ireu",
        "colab": {}
      },
      "source": [
        "# Here we are creating our new dataframe based on the selected features (from selector)\n",
        "train_prepared_columns = [col for (selected, col) in zip(selector.get_support(), predictors) if selected == True]\n",
        "train_prepared = train_features_prepared[train_prepared_columns]"
      ],
      "execution_count": 0,
      "outputs": []
    },
    {
      "cell_type": "code",
      "metadata": {
        "id": "vACt28WHqDoD",
        "colab_type": "code",
        "outputId": "5e307938-b46b-4372-ca80-3f75b008ddc8",
        "colab": {
          "base_uri": "https://localhost:8080/",
          "height": 34
        }
      },
      "source": [
        "train_prepared_columns"
      ],
      "execution_count": 0,
      "outputs": [
        {
          "output_type": "execute_result",
          "data": {
            "text/plain": [
              "['housing', 'contact', 'duration', 'pdays', 'previous']"
            ]
          },
          "metadata": {
            "tags": []
          },
          "execution_count": 33
        }
      ]
    },
    {
      "cell_type": "markdown",
      "metadata": {
        "colab_type": "text",
        "id": "RtRU03FII6Qu"
      },
      "source": [
        "## 05 - Building the model"
      ]
    },
    {
      "cell_type": "code",
      "metadata": {
        "colab_type": "code",
        "id": "fPcoSMDkI36K",
        "colab": {}
      },
      "source": [
        "# Importing libraries needed\n",
        "\n",
        "from sklearn.linear_model import LogisticRegression\n",
        "from sklearn.model_selection import GridSearchCV\n",
        "from sklearn.svm import SVC\n",
        "from sklearn.neural_network import MLPClassifier\n",
        "from sklearn.neighbors import KNeighborsClassifier\n",
        "from sklearn.tree import DecisionTreeClassifier\n",
        "from sklearn.ensemble import RandomForestClassifier, AdaBoostClassifier\n",
        "\n",
        "from sklearn.metrics import make_scorer\n",
        "from sklearn.metrics import f1_score\n",
        "from sklearn.metrics import accuracy_score\n",
        "from sklearn.metrics import precision_score\n",
        "from sklearn.metrics import recall_score\n",
        "from sklearn.metrics import roc_auc_score\n",
        "from sklearn.metrics import auc\n",
        "from sklearn.metrics import roc_curve\n",
        "\n",
        "\n",
        "import matplotlib.pyplot as plt\n",
        "import numpy as np"
      ],
      "execution_count": 0,
      "outputs": []
    },
    {
      "cell_type": "code",
      "metadata": {
        "colab_type": "code",
        "id": "qKAQmjqYQTA-",
        "colab": {}
      },
      "source": [
        "# this function will create the classifiers (models) that we want to test\n",
        "def create_classifiers(): \n",
        "    \"\"\"Create classifiers and specify hyper parameters\"\"\"\n",
        "    \n",
        "    log_params = [{'penalty': ['l1', 'l2'], 'C': np.logspace(0, 4, 10)}]\n",
        "\n",
        "    knn_params = [{'n_neighbors': [3, 4, 5]}]\n",
        "\n",
        "    svc_params = [{'kernel': ['linear', 'rbf'], 'probability': [True]}]\n",
        "\n",
        "    tree_params = [{'criterion': ['gini', 'entropy']}]\n",
        "\n",
        "    forest_params = {'n_estimators': [1, 5, 10]}\n",
        "\n",
        "    mlp_params = {'activation': [\n",
        "                    'identity', 'logistic', 'tanh', 'relu'\n",
        "                  ]}\n",
        "\n",
        "    ada_params = {'n_estimators': [1, 5, 10]}\n",
        "\n",
        "    classifiers = [\n",
        "        ['LogisticRegression', LogisticRegression(random_state=42),\n",
        "         log_params],\n",
        "        ['KNeighborsClassifier', KNeighborsClassifier(), knn_params],\n",
        "        ['SVC', SVC(random_state=42), svc_params],\n",
        "        ['DecisionTreeClassifier',\n",
        "         DecisionTreeClassifier(random_state=42), tree_params],\n",
        "        ['RandomForestClassifier',\n",
        "         RandomForestClassifier(random_state=42), forest_params],\n",
        "        ['MLPClassifier', MLPClassifier(random_state=42), mlp_params],\n",
        "        ['AdaBoostClassifier', AdaBoostClassifier(random_state=42),\n",
        "         ada_params],\n",
        "        ]\n",
        "\n",
        "    return classifiers\n"
      ],
      "execution_count": 0,
      "outputs": []
    },
    {
      "cell_type": "code",
      "metadata": {
        "colab_type": "code",
        "id": "DbSaj0PNQW3P",
        "colab": {}
      },
      "source": [
        "# this grid search will iterate through the different combinations and returns the best parameters for each model type. \n",
        "# Running this cell might take a while\n",
        "\n",
        "def grid_search(model, parameters, name,training_features, training_labels):\n",
        "    \"\"\"Grid search that returns best parameters for each model type\"\"\"\n",
        "    \n",
        "    clf = GridSearchCV(model, parameters, cv=3, refit = 'f1',\n",
        "                       scoring='f1', verbose=0, n_jobs=4)\n",
        "    clf.fit(training_features, training_labels)\n",
        "    best_estimator = clf.best_estimator_\n",
        "  \n",
        "    return [name, str(clf.best_params_), clf.best_score_,\n",
        "            best_estimator]"
      ],
      "execution_count": 0,
      "outputs": []
    },
    {
      "cell_type": "code",
      "metadata": {
        "colab_type": "code",
        "id": "-VIkNq4HQZ-O",
        "colab": {}
      },
      "source": [
        "# Now we want to get the best configuration for each model. \n",
        "\n",
        "def best_configuration(classifiers, training_features, training_labels):\n",
        "    \"\"\"returns the best configuration for each model\"\"\"\n",
        "    \n",
        "    clfs_best_config = []\n",
        "\n",
        "    for (name, model, parameters) in classifiers:\n",
        "        clfs_best_config.append(grid_search(model, parameters, name,\n",
        "                                training_features, training_labels))\n",
        "    return clfs_best_config"
      ],
      "execution_count": 0,
      "outputs": []
    },
    {
      "cell_type": "code",
      "metadata": {
        "colab_type": "code",
        "id": "huHOtZcbQdux",
        "colab": {}
      },
      "source": [
        "# Here we call the Grid search and Best_configuration function (note we only use 100 rows to decrease the run time). \n",
        "\n",
        "import warnings\n",
        "warnings.filterwarnings('ignore')\n",
        "\n",
        "classifiers = create_classifiers()\n",
        "clfs_best_config = best_configuration(classifiers, train_prepared[:100], train_label[:100])"
      ],
      "execution_count": 0,
      "outputs": []
    },
    {
      "cell_type": "code",
      "metadata": {
        "colab_type": "code",
        "id": "Qy0bNM3ZQh8s",
        "colab": {}
      },
      "source": [
        "# Prepare the test data for prediction\n",
        "test_features, test_label = return_features_and_label(strat_test_set)\n",
        "test_features_prepared = data_pipeline(test_features)\n",
        "test_prepared = test_features_prepared[train_prepared_columns]"
      ],
      "execution_count": 0,
      "outputs": []
    },
    {
      "cell_type": "code",
      "metadata": {
        "colab_type": "code",
        "id": "bMtkuVqmQmgJ",
        "outputId": "537bfc33-5841-43fb-d3fb-0343e92f5205",
        "colab": {
          "base_uri": "https://localhost:8080/",
          "height": 266
        }
      },
      "source": [
        "f1_score_list = []\n",
        "accuracy_list = []\n",
        "precision_list = []\n",
        "recall_list = []\n",
        "roc_auc_list = []\n",
        "model_name_list = []\n",
        "\n",
        "# Iterate through the different model combinations to calculate perf. metrics.\n",
        "\n",
        "for name, params, score, model in clfs_best_config:\n",
        "    pred_label = model.predict(test_prepared) # Predict outcome.\n",
        "    f1_score_list.append(f1_score(test_label,pred_label)) # F1 score.\n",
        "    accuracy_list.append(accuracy_score(test_label, pred_label)) # Accuracy score.\n",
        "    precision_list.append(precision_score(test_label, pred_label)) # Precision score.\n",
        "    recall_list.append(recall_score(test_label, pred_label)) # Recall score.\n",
        "    roc_auc_list.append(roc_auc_score(test_label,\n",
        "                        model.predict_proba(test_prepared)[:, 1]))  # Predict probability.\n",
        "    model_name_list.append(name)\n",
        "\n",
        "# Sum up metrics in a pandas data frame.\n",
        "pd.DataFrame(\n",
        "    {'Model' : model_name_list,\n",
        "     'F1 Score' : f1_score_list,\n",
        "     'Accurary': accuracy_list,\n",
        "     'Precision': precision_list,\n",
        "     'Recall': recall_list,\n",
        "     'Roc_Auc': roc_auc_list \n",
        "    },\n",
        "    columns = ['Model','F1 Score','Precision','Recall', 'Accurary', 'Roc_Auc']\n",
        ")"
      ],
      "execution_count": 0,
      "outputs": [
        {
          "output_type": "execute_result",
          "data": {
            "text/html": [
              "<div>\n",
              "<style scoped>\n",
              "    .dataframe tbody tr th:only-of-type {\n",
              "        vertical-align: middle;\n",
              "    }\n",
              "\n",
              "    .dataframe tbody tr th {\n",
              "        vertical-align: top;\n",
              "    }\n",
              "\n",
              "    .dataframe thead th {\n",
              "        text-align: right;\n",
              "    }\n",
              "</style>\n",
              "<table border=\"1\" class=\"dataframe\">\n",
              "  <thead>\n",
              "    <tr style=\"text-align: right;\">\n",
              "      <th></th>\n",
              "      <th>Model</th>\n",
              "      <th>F1 Score</th>\n",
              "      <th>Precision</th>\n",
              "      <th>Recall</th>\n",
              "      <th>Accurary</th>\n",
              "      <th>Roc_Auc</th>\n",
              "    </tr>\n",
              "  </thead>\n",
              "  <tbody>\n",
              "    <tr>\n",
              "      <th>0</th>\n",
              "      <td>LogisticRegression</td>\n",
              "      <td>0.314028</td>\n",
              "      <td>0.491935</td>\n",
              "      <td>0.230624</td>\n",
              "      <td>0.882119</td>\n",
              "      <td>0.835507</td>\n",
              "    </tr>\n",
              "    <tr>\n",
              "      <th>1</th>\n",
              "      <td>KNeighborsClassifier</td>\n",
              "      <td>0.366525</td>\n",
              "      <td>0.416867</td>\n",
              "      <td>0.327032</td>\n",
              "      <td>0.867743</td>\n",
              "      <td>0.712208</td>\n",
              "    </tr>\n",
              "    <tr>\n",
              "      <th>2</th>\n",
              "      <td>SVC</td>\n",
              "      <td>0.364063</td>\n",
              "      <td>0.480620</td>\n",
              "      <td>0.293006</td>\n",
              "      <td>0.880239</td>\n",
              "      <td>0.841476</td>\n",
              "    </tr>\n",
              "    <tr>\n",
              "      <th>3</th>\n",
              "      <td>DecisionTreeClassifier</td>\n",
              "      <td>0.334408</td>\n",
              "      <td>0.326146</td>\n",
              "      <td>0.343100</td>\n",
              "      <td>0.840208</td>\n",
              "      <td>0.624587</td>\n",
              "    </tr>\n",
              "    <tr>\n",
              "      <th>4</th>\n",
              "      <td>RandomForestClassifier</td>\n",
              "      <td>0.292842</td>\n",
              "      <td>0.343511</td>\n",
              "      <td>0.255198</td>\n",
              "      <td>0.855800</td>\n",
              "      <td>0.729608</td>\n",
              "    </tr>\n",
              "    <tr>\n",
              "      <th>5</th>\n",
              "      <td>MLPClassifier</td>\n",
              "      <td>0.331894</td>\n",
              "      <td>0.477798</td>\n",
              "      <td>0.254253</td>\n",
              "      <td>0.880239</td>\n",
              "      <td>0.812670</td>\n",
              "    </tr>\n",
              "    <tr>\n",
              "      <th>6</th>\n",
              "      <td>AdaBoostClassifier</td>\n",
              "      <td>0.449021</td>\n",
              "      <td>0.479100</td>\n",
              "      <td>0.422495</td>\n",
              "      <td>0.878691</td>\n",
              "      <td>0.810856</td>\n",
              "    </tr>\n",
              "  </tbody>\n",
              "</table>\n",
              "</div>"
            ],
            "text/plain": [
              "                    Model  F1 Score  Precision    Recall  Accurary   Roc_Auc\n",
              "0      LogisticRegression  0.314028   0.491935  0.230624  0.882119  0.835507\n",
              "1    KNeighborsClassifier  0.366525   0.416867  0.327032  0.867743  0.712208\n",
              "2                     SVC  0.364063   0.480620  0.293006  0.880239  0.841476\n",
              "3  DecisionTreeClassifier  0.334408   0.326146  0.343100  0.840208  0.624587\n",
              "4  RandomForestClassifier  0.292842   0.343511  0.255198  0.855800  0.729608\n",
              "5           MLPClassifier  0.331894   0.477798  0.254253  0.880239  0.812670\n",
              "6      AdaBoostClassifier  0.449021   0.479100  0.422495  0.878691  0.810856"
            ]
          },
          "metadata": {
            "tags": []
          },
          "execution_count": 34
        }
      ]
    },
    {
      "cell_type": "code",
      "metadata": {
        "colab_type": "code",
        "id": "nqGgaE1mQwcb",
        "outputId": "514a168c-4059-4bf0-bb76-9599febed160",
        "colab": {
          "base_uri": "https://localhost:8080/",
          "height": 461
        }
      },
      "source": [
        "# Create a function that plots an ROC curve\n",
        "def roc_graph(test_label, pred_label, name):\n",
        "  \"\"\"Plots the ROC curve's in a Graph\"\"\"\n",
        "  \n",
        "  fpr, tpr, thresholds = roc_curve(test_label, pred_label, pos_label=1)\n",
        "  roc_auc = auc(fpr, tpr)\n",
        "  plt.plot(fpr, tpr, lw=2, label='%s ROC (area = %0.2f)' % (name, roc_auc))\n",
        "\n",
        "plt.clf()\n",
        "\n",
        "# Iterate though the models, create ROC graph for each model.\n",
        "for name, _, _, model in clfs_best_config:\n",
        "    pred_label = model.predict_proba(test_prepared)[:,1]\n",
        "    roc_graph(test_label, pred_label, name)\n",
        "\n",
        "plt.plot([0, 1], [0, 1], color='navy', lw=2, linestyle='--')\n",
        "plt.xlim([0.0, 1.0])\n",
        "plt.ylim([0.0, 1.0])\n",
        "plt.xlabel('False Positive Rate')\n",
        "plt.ylabel('True Positive Rate')\n",
        "plt.title('ROC Curves ')\n",
        "plt.legend(loc=\"lower right\", fontsize='small')\n",
        "plt.show()"
      ],
      "execution_count": 0,
      "outputs": [
        {
          "output_type": "display_data",
          "data": {
            "image/png": "[encoded data removed]",
            "text/plain": [
              "<Figure size 1008x504 with 1 Axes>"
            ]
          },
          "metadata": {
            "tags": []
          }
        }
      ]
    },
    {
      "cell_type": "code",
      "metadata": {
        "colab_type": "code",
        "id": "6hWv_9oLQ3Zm",
        "outputId": "c17d81c6-5887-4836-add6-41d8de9d8b56",
        "colab": {
          "base_uri": "https://localhost:8080/",
          "height": 85
        }
      },
      "source": [
        "%env GCS_BUCKET=gs://thirude\n",
        "%env REGION=us-central1\n",
        "%env LOCAL_DIRECTORY=./trainer/data\n",
        "%env TRAINER_PACKAGE_PATH=./trainer"
      ],
      "execution_count": 0,
      "outputs": [
        {
          "output_type": "stream",
          "text": [
            "env: GCS_BUCKET=gs://thirude\n",
            "env: REGION=us-central1\n",
            "env: LOCAL_DIRECTORY=./trainer/data\n",
            "env: TRAINER_PACKAGE_PATH=./trainer\n"
          ],
          "name": "stdout"
        }
      ]
    },
    {
      "cell_type": "code",
      "metadata": {
        "colab_type": "code",
        "id": "Isd_SgRiyktW",
        "colab": {}
      },
      "source": [
        "%%bash\n",
        "mkdir trainer\n",
        "touch trainer/__init__.py"
      ],
      "execution_count": 0,
      "outputs": []
    },
    {
      "cell_type": "code",
      "metadata": {
        "colab_type": "code",
        "id": "mKIDKrdLAg4W",
        "outputId": "5f589e7f-ebb8-4ce9-e2bc-a25e294d38bb",
        "colab": {
          "base_uri": "https://localhost:8080/",
          "height": 34
        }
      },
      "source": [
        "!echo $GCS_BUCKET"
      ],
      "execution_count": 0,
      "outputs": [
        {
          "output_type": "stream",
          "text": [
            "gs://thirude\n"
          ],
          "name": "stdout"
        }
      ]
    },
    {
      "cell_type": "code",
      "metadata": {
        "colab_type": "code",
        "id": "qy1MsUgbzpOn",
        "outputId": "a29ccc71-5aaf-403a-95a5-4f80557d7a4f",
        "colab": {
          "base_uri": "https://localhost:8080/",
          "height": 68
        }
      },
      "source": [
        "strat_train_set.to_csv('train.csv', index=None)\n",
        "!gsutil cp train.csv $GCS_BUCKET"
      ],
      "execution_count": 0,
      "outputs": [
        {
          "output_type": "stream",
          "text": [
            "Copying file://train.csv [Content-Type=text/csv]...\n",
            "/ [1 files][  3.2 MiB/  3.2 MiB]                                                \n",
            "Operation completed over 1 objects/3.2 MiB.                                      \n"
          ],
          "name": "stdout"
        }
      ]
    },
    {
      "cell_type": "code",
      "metadata": {
        "colab_type": "code",
        "id": "KR6eEuUiDUzo",
        "outputId": "b997ca8f-7091-438a-a50a-2e7d5a6f1b5b",
        "colab": {
          "base_uri": "https://localhost:8080/",
          "height": 272
        }
      },
      "source": [
        "!gsutil ls $GCS_BUCKET"
      ],
      "execution_count": 0,
      "outputs": [
        {
          "output_type": "stream",
          "text": [
            "gs://thirude/Recommendations.ipynb\n",
            "gs://thirude/SCB_POC.ipynb\n",
            "gs://thirude/ga_bank_sessions\n",
            "gs://thirude/input.json\n",
            "gs://thirude/next_best_prep_data\n",
            "gs://thirude/next_best_prep_data.csv\n",
            "gs://thirude/train.csv\n",
            "gs://thirude/access_cred/\n",
            "gs://thirude/banking_200324_091313/\n",
            "gs://thirude/banking_200324_091407/\n",
            "gs://thirude/banking_200324_100413/\n",
            "gs://thirude/banking_200324_101835/\n",
            "gs://thirude/custom_prediction_routine_tutorial/\n",
            "gs://thirude/model_20200324_102011/\n",
            "gs://thirude/test/\n"
          ],
          "name": "stdout"
        }
      ]
    },
    {
      "cell_type": "code",
      "metadata": {
        "colab_type": "code",
        "id": "JteOdbAQzsG-",
        "outputId": "6fc5f37b-3e18-4bd1-e2bc-cc1a32896849",
        "colab": {
          "base_uri": "https://localhost:8080/",
          "height": 34
        }
      },
      "source": [
        "%%writefile trainer/task.py\n",
        "\n",
        "import datetime\n",
        "import os\n",
        "import pandas as pd\n",
        "import numpy as np\n",
        "import subprocess\n",
        "\n",
        "from google.cloud import storage\n",
        "\n",
        "from sklearn.ensemble import RandomForestClassifier\n",
        "from sklearn.externals import joblib\n",
        "from sklearn.feature_selection import SelectKBest, f_classif\n",
        "from sklearn.pipeline import FeatureUnion\n",
        "from sklearn.pipeline import Pipeline\n",
        "from sklearn.preprocessing import LabelEncoder, StandardScaler\n",
        "\n",
        "from sklearn.metrics import make_scorer\n",
        "from sklearn.metrics import f1_score\n",
        "from sklearn.metrics import accuracy_score\n",
        "\n",
        "from sklearn.linear_model import LogisticRegression\n",
        "from sklearn.model_selection import GridSearchCV\n",
        "from sklearn.svm import SVC\n",
        "from sklearn.neural_network import MLPClassifier\n",
        "from sklearn.neighbors import KNeighborsClassifier\n",
        "from sklearn.tree import DecisionTreeClassifier\n",
        "from sklearn.ensemble import RandomForestClassifier, AdaBoostClassifier\n",
        "\n",
        "# TODO: REPLACE '<BUCKET_NAME>' with your GCS bucket name\n",
        "BUCKET_NAME ='thirude'\n",
        "\n",
        "# Bucket holding the training data\n",
        "bucket = storage.Client().bucket(BUCKET_NAME)\n",
        "\n",
        "# Path to the data inside the  bucket\n",
        "blob = bucket.blob('train.csv')\n",
        "# Download the data\n",
        "blob.download_to_filename('train.csv')\n",
        "# [END download-data]\n",
        "\n",
        "# [START scikit-learn code]\n",
        "# Load the training dataset\n",
        "with open('./train.csv', 'r') as train_data:\n",
        "    df = pd.read_csv(train_data)\n",
        "\n",
        "def return_features_and_label(df_tmp):\n",
        "    # Get all the columns except the one named \"y\"\n",
        "    X = df_tmp.drop(\"y\", axis=1)\n",
        "    Y = df_tmp[\"y\"].copy()\n",
        "    # Convert label to an integer\n",
        "    Y = LabelEncoder().fit_transform(Y)\n",
        "    return X, Y\n",
        "\n",
        "def data_pipeline(df_tmp):\n",
        "    num_cols = df_tmp._get_numeric_data().columns\n",
        "    cat_cols = list(set(df_tmp.columns) - set(num_cols))\n",
        "    # Normalize Numeric Data\n",
        "    df_tmp[num_cols] = StandardScaler().fit_transform(df_tmp[num_cols])\n",
        "    # Convert categorical variables to integers\n",
        "    df_tmp[cat_cols] = df_tmp[cat_cols].apply(LabelEncoder().fit_transform)\n",
        "    return df_tmp\n",
        "\n",
        "def create_classifiers():\n",
        "    log_params = [{'penalty': ['l1', 'l2'], 'C': np.logspace(0, 4, 10)}]\n",
        "\n",
        "    knn_params = [{'n_neighbors': [3, 4, 5]}]\n",
        "\n",
        "    svc_params = [{'kernel': ['linear', 'rbf'], 'probability': [True]}]\n",
        "\n",
        "    tree_params = [{'criterion': ['gini', 'entropy']}]\n",
        "\n",
        "    forest_params = {'n_estimators': [1, 5, 10]}\n",
        "\n",
        "    mlp_params = {'activation': [\n",
        "                    'identity', 'logistic', 'tanh', 'relu'\n",
        "                  ]}\n",
        "\n",
        "    ada_params = {'n_estimators': [1, 5, 10]}\n",
        "\n",
        "    classifiers = [\n",
        "        ['LogisticRegression', LogisticRegression(random_state=42),\n",
        "         log_params],\n",
        "        ['KNeighborsClassifier', KNeighborsClassifier(), knn_params],\n",
        "        ['SVC', SVC(random_state=42), svc_params],\n",
        "        ['DecisionTreeClassifier',\n",
        "         DecisionTreeClassifier(random_state=42), tree_params],\n",
        "        ['RandomForestClassifier',\n",
        "         RandomForestClassifier(random_state=42), forest_params],\n",
        "        ['MLPClassifier', MLPClassifier(random_state=42), mlp_params],\n",
        "        ['AdaBoostClassifier', AdaBoostClassifier(random_state=42),\n",
        "         ada_params],\n",
        "        ]\n",
        "\n",
        "    return classifiers\n",
        "\n",
        "\n",
        "def grid_search(model, parameters, name, X, y):\n",
        "    clf = GridSearchCV(model, parameters, cv=3, refit = 'f1',\n",
        "                       scoring='f1', verbose=0, n_jobs=4)\n",
        "    clf.fit(X, y)\n",
        "    best_estimator = clf.best_estimator_\n",
        "  \n",
        "    return [name, clf.best_score_, best_estimator]\n",
        "\n",
        "\n",
        "def best_configuration(classifiers, training_values, testing_values):\n",
        "    clfs_best_config = []\n",
        "    best_clf = None\n",
        "    best_score = 0\n",
        "\n",
        "    for (name, model, parameters) in classifiers:\n",
        "        clfs_best_config.append(grid_search(model, parameters, name,\n",
        "                                training_values, testing_values))\n",
        "    \n",
        "    for name, quality, clf in clfs_best_config:\n",
        "        if quality > best_score:\n",
        "            best_score = quality\n",
        "            best_clf = clf\n",
        "    \n",
        "    return best_clf\n",
        "\n",
        "\n",
        "train_features, train_label = return_features_and_label(df)\n",
        "train_features_prepared = data_pipeline(train_features)\n",
        "\n",
        "predictors = train_features_prepared.columns\n",
        "# Perform feature selection\n",
        "selector = SelectKBest(f_classif, k=5)\n",
        "selector.fit(train_features_prepared[predictors], train_label)\n",
        "\n",
        "train_prepared_columns = [col for (selected, col) in zip(selector.get_support(), predictors) if selected == True]\n",
        "train_features_prepared = train_features_prepared[train_prepared_columns]\n",
        "\n",
        "\n",
        "x = train_features_prepared.values\n",
        "y = train_label\n",
        "classifiers = create_classifiers()\n",
        "clf = best_configuration(classifiers, x[:100], y[:100])\n",
        "# [END scikit-learn]\n",
        "\n",
        "\n",
        "# [START export-to-gcs]\n",
        "# Export the model to a file\n",
        "model = 'model.joblib'\n",
        "joblib.dump(clf, model)\n",
        "\n",
        "# Upload the model to GCS\n",
        "bucket = storage.Client().bucket(BUCKET_NAME)\n",
        "blob = bucket.blob('{}/{}'.format(\n",
        "    datetime.datetime.now().strftime('model_%Y%m%d_%H%M%S'),\n",
        "    model))\n",
        "blob.upload_from_filename(model)\n",
        "# [END export-to-gcs]"
      ],
      "execution_count": 0,
      "outputs": [
        {
          "output_type": "stream",
          "text": [
            "Writing trainer/task.py\n"
          ],
          "name": "stdout"
        }
      ]
    },
    {
      "cell_type": "code",
      "metadata": {
        "colab_type": "code",
        "id": "WXanEkhuz3bI",
        "outputId": "24147c64-7b7a-4840-b5ff-8a00efa8a85f",
        "colab": {
          "base_uri": "https://localhost:8080/",
          "height": 204
        }
      },
      "source": [
        "%%bash \n",
        "\n",
        "JOBNAME=banking_$(date -u +%y%m%d_%H%M%S)\n",
        "\n",
        "echo $JOBNAME \n",
        "\n",
        "gcloud ai-platform jobs submit training model_training_$JOBNAME \\\n",
        "        --job-dir $GCS_BUCKET/$JOBNAME/output \\\n",
        "        --package-path trainer \\\n",
        "        --module-name trainer.task \\\n",
        "        --region $REGION \\\n",
        "        --runtime-version=1.15 \\\n",
        "        --python-version=3.5 \\\n",
        "        --scale-tier BASIC"
      ],
      "execution_count": 0,
      "outputs": [
        {
          "output_type": "stream",
          "text": [
            "banking_200326_085548\n",
            "jobId: model_training_banking_200326_085548\n",
            "state: QUEUED\n"
          ],
          "name": "stdout"
        },
        {
          "output_type": "stream",
          "text": [
            "Job [model_training_banking_200326_085548] submitted successfully.\n",
            "Your job is still active. You may view the status of your job with the command\n",
            "\n",
            "  $ gcloud ai-platform jobs describe model_training_banking_200326_085548\n",
            "\n",
            "or continue streaming the logs with the command\n",
            "\n",
            "  $ gcloud ai-platform jobs stream-logs model_training_banking_200326_085548\n"
          ],
          "name": "stderr"
        }
      ]
    },
    {
      "cell_type": "code",
      "metadata": {
        "colab_type": "code",
        "id": "xSVj7LX30PiL",
        "outputId": "d80d42b9-8d1b-4f47-e4d5-f32ed83181eb",
        "colab": {
          "base_uri": "https://localhost:8080/",
          "height": 34
        }
      },
      "source": [
        "!ls trainer/"
      ],
      "execution_count": 0,
      "outputs": [
        {
          "output_type": "stream",
          "text": [
            "__init__.py  task.py\n"
          ],
          "name": "stdout"
        }
      ]
    },
    {
      "cell_type": "code",
      "metadata": {
        "colab_type": "code",
        "id": "Eerf7nBf09BE",
        "colab": {}
      },
      "source": [
        "test_features_prepared = data_pipeline(test_features)\n",
        "test_prepared = test_features_prepared[train_prepared_columns]\n",
        "test = test_prepared.as_matrix().tolist()"
      ],
      "execution_count": 0,
      "outputs": []
    },
    {
      "cell_type": "code",
      "metadata": {
        "colab_type": "code",
        "id": "YWTuIhSoPajj",
        "outputId": "9fa08a04-6f72-4b7b-c234-eb4a9a7f0551",
        "colab": {
          "base_uri": "https://localhost:8080/",
          "height": 419
        }
      },
      "source": [
        "test_prepared"
      ],
      "execution_count": 0,
      "outputs": [
        {
          "output_type": "execute_result",
          "data": {
            "text/html": [
              "<div>\n",
              "<style scoped>\n",
              "    .dataframe tbody tr th:only-of-type {\n",
              "        vertical-align: middle;\n",
              "    }\n",
              "\n",
              "    .dataframe tbody tr th {\n",
              "        vertical-align: top;\n",
              "    }\n",
              "\n",
              "    .dataframe thead th {\n",
              "        text-align: right;\n",
              "    }\n",
              "</style>\n",
              "<table border=\"1\" class=\"dataframe\">\n",
              "  <thead>\n",
              "    <tr style=\"text-align: right;\">\n",
              "      <th></th>\n",
              "      <th>housing</th>\n",
              "      <th>contact</th>\n",
              "      <th>duration</th>\n",
              "      <th>pdays</th>\n",
              "      <th>previous</th>\n",
              "    </tr>\n",
              "  </thead>\n",
              "  <tbody>\n",
              "    <tr>\n",
              "      <th>26627</th>\n",
              "      <td>0.895206</td>\n",
              "      <td>-0.714286</td>\n",
              "      <td>1.716581</td>\n",
              "      <td>-0.416098</td>\n",
              "      <td>-0.317155</td>\n",
              "    </tr>\n",
              "    <tr>\n",
              "      <th>804</th>\n",
              "      <td>-1.117061</td>\n",
              "      <td>-0.714286</td>\n",
              "      <td>-0.620077</td>\n",
              "      <td>3.027578</td>\n",
              "      <td>1.315500</td>\n",
              "    </tr>\n",
              "    <tr>\n",
              "      <th>17565</th>\n",
              "      <td>-1.117061</td>\n",
              "      <td>0.398234</td>\n",
              "      <td>-0.426344</td>\n",
              "      <td>-0.416098</td>\n",
              "      <td>-0.317155</td>\n",
              "    </tr>\n",
              "    <tr>\n",
              "      <th>5035</th>\n",
              "      <td>0.895206</td>\n",
              "      <td>-0.714286</td>\n",
              "      <td>0.625350</td>\n",
              "      <td>-0.055714</td>\n",
              "      <td>1.859718</td>\n",
              "    </tr>\n",
              "    <tr>\n",
              "      <th>7134</th>\n",
              "      <td>0.895206</td>\n",
              "      <td>-0.714286</td>\n",
              "      <td>0.645119</td>\n",
              "      <td>0.504885</td>\n",
              "      <td>3.492372</td>\n",
              "    </tr>\n",
              "    <tr>\n",
              "      <th>...</th>\n",
              "      <td>...</td>\n",
              "      <td>...</td>\n",
              "      <td>...</td>\n",
              "      <td>...</td>\n",
              "      <td>...</td>\n",
              "    </tr>\n",
              "    <tr>\n",
              "      <th>22136</th>\n",
              "      <td>0.895206</td>\n",
              "      <td>-0.714286</td>\n",
              "      <td>-0.027017</td>\n",
              "      <td>-0.416098</td>\n",
              "      <td>-0.317155</td>\n",
              "    </tr>\n",
              "    <tr>\n",
              "      <th>13546</th>\n",
              "      <td>0.895206</td>\n",
              "      <td>-0.714286</td>\n",
              "      <td>1.791702</td>\n",
              "      <td>-0.416098</td>\n",
              "      <td>-0.317155</td>\n",
              "    </tr>\n",
              "    <tr>\n",
              "      <th>2043</th>\n",
              "      <td>0.895206</td>\n",
              "      <td>-0.714286</td>\n",
              "      <td>-0.754505</td>\n",
              "      <td>2.927471</td>\n",
              "      <td>0.227063</td>\n",
              "    </tr>\n",
              "    <tr>\n",
              "      <th>1825</th>\n",
              "      <td>-1.117061</td>\n",
              "      <td>-0.714286</td>\n",
              "      <td>0.214161</td>\n",
              "      <td>0.554938</td>\n",
              "      <td>0.771282</td>\n",
              "    </tr>\n",
              "    <tr>\n",
              "      <th>6049</th>\n",
              "      <td>0.895206</td>\n",
              "      <td>-0.714286</td>\n",
              "      <td>-0.303778</td>\n",
              "      <td>3.097653</td>\n",
              "      <td>0.227063</td>\n",
              "    </tr>\n",
              "  </tbody>\n",
              "</table>\n",
              "<p>9043 rows × 5 columns</p>\n",
              "</div>"
            ],
            "text/plain": [
              "        housing   contact  duration     pdays  previous\n",
              "26627  0.895206 -0.714286  1.716581 -0.416098 -0.317155\n",
              "804   -1.117061 -0.714286 -0.620077  3.027578  1.315500\n",
              "17565 -1.117061  0.398234 -0.426344 -0.416098 -0.317155\n",
              "5035   0.895206 -0.714286  0.625350 -0.055714  1.859718\n",
              "7134   0.895206 -0.714286  0.645119  0.504885  3.492372\n",
              "...         ...       ...       ...       ...       ...\n",
              "22136  0.895206 -0.714286 -0.027017 -0.416098 -0.317155\n",
              "13546  0.895206 -0.714286  1.791702 -0.416098 -0.317155\n",
              "2043   0.895206 -0.714286 -0.754505  2.927471  0.227063\n",
              "1825  -1.117061 -0.714286  0.214161  0.554938  0.771282\n",
              "6049   0.895206 -0.714286 -0.303778  3.097653  0.227063\n",
              "\n",
              "[9043 rows x 5 columns]"
            ]
          },
          "metadata": {
            "tags": []
          },
          "execution_count": 56
        }
      ]
    },
    {
      "cell_type": "code",
      "metadata": {
        "colab_type": "code",
        "id": "qzjOTOi9IHZ2",
        "colab": {}
      },
      "source": [
        "test"
      ],
      "execution_count": 0,
      "outputs": []
    },
    {
      "cell_type": "code",
      "metadata": {
        "colab_type": "code",
        "id": "EhBavL00IJba",
        "outputId": "f3a11f9b-1570-4e5b-e889-9a81e5ce122c",
        "colab": {
          "base_uri": "https://localhost:8080/",
          "height": 289
        }
      },
      "source": [
        "!gsutil ls $GCS_BUCKET"
      ],
      "execution_count": 0,
      "outputs": [
        {
          "output_type": "stream",
          "text": [
            "gs://thirude/Recommendations.ipynb\n",
            "gs://thirude/SCB_POC.ipynb\n",
            "gs://thirude/ga_bank_sessions\n",
            "gs://thirude/input.json\n",
            "gs://thirude/next_best_prep_data\n",
            "gs://thirude/next_best_prep_data.csv\n",
            "gs://thirude/train.csv\n",
            "gs://thirude/access_cred/\n",
            "gs://thirude/banking_200324_091313/\n",
            "gs://thirude/banking_200324_091407/\n",
            "gs://thirude/banking_200324_100413/\n",
            "gs://thirude/banking_200324_101835/\n",
            "gs://thirude/banking_200326_085548/\n",
            "gs://thirude/custom_prediction_routine_tutorial/\n",
            "gs://thirude/model_20200324_102011/\n",
            "gs://thirude/test/\n"
          ],
          "name": "stdout"
        }
      ]
    },
    {
      "cell_type": "code",
      "metadata": {
        "colab_type": "code",
        "id": "jvUd1UPzf4fZ",
        "outputId": "b351934f-ab3a-4b45-9540-a2d490e5718c",
        "colab": {
          "base_uri": "https://localhost:8080/",
          "height": 102
        }
      },
      "source": [
        "%env VERSION_NAME=v1\n",
        "%env MODEL_NAME=bank_pred\n",
        "%env JSON_INSTANCE=input.json\n",
        "%env MODEL_DIR=gs://thirude/model_20200324_102011\n",
        "%env FRAMEWORK=SCIKIT_LEARN"
      ],
      "execution_count": 0,
      "outputs": [
        {
          "output_type": "stream",
          "text": [
            "env: VERSION_NAME=v1\n",
            "env: MODEL_NAME=bank_pred\n",
            "env: JSON_INSTANCE=input.json\n",
            "env: MODEL_DIR=gs://thirude/model_20200324_102011\n",
            "env: FRAMEWORK=SCIKIT_LEARN\n"
          ],
          "name": "stdout"
        }
      ]
    },
    {
      "cell_type": "code",
      "metadata": {
        "colab_type": "code",
        "id": "Xo_saveagAby",
        "outputId": "f0de6f51-1a28-4fa4-885b-279ab3546a2b",
        "colab": {
          "base_uri": "https://localhost:8080/",
          "height": 122
        }
      },
      "source": [
        "! gcloud ai-platform models create $MODEL_NAME --regions=us-central1"
      ],
      "execution_count": 0,
      "outputs": [
        {
          "output_type": "stream",
          "text": [
            "\u001b[1;31mERROR:\u001b[0m (gcloud.ai-platform.models.create) Resource in project [stately-planet-181816] is the subject of a conflict: Field: model.name Error: A model with the same name already exists.\n",
            "- '@type': type.googleapis.com/google.rpc.BadRequest\n",
            "  fieldViolations:\n",
            "  - description: A model with the same name already exists.\n",
            "    field: model.name\n"
          ],
          "name": "stdout"
        }
      ]
    },
    {
      "cell_type": "code",
      "metadata": {
        "colab_type": "code",
        "id": "a9Thn-NBgFrP",
        "outputId": "eaf7ae33-7fb4-4f5f-dc31-a4448b316398",
        "colab": {
          "base_uri": "https://localhost:8080/",
          "height": 102
        }
      },
      "source": [
        "! gcloud ai-platform versions create $VERSION_NAME \\\n",
        "        --model $MODEL_NAME --origin $MODEL_DIR \\\n",
        "        --runtime-version 1.13 --framework $FRAMEWORK \\\n",
        "        --python-version 3.5"
      ],
      "execution_count": 0,
      "outputs": [
        {
          "output_type": "stream",
          "text": [
            "\u001b[1;31mERROR:\u001b[0m (gcloud.ai-platform.versions.create) ALREADY_EXISTS: Field: version.name Error: A version with the same name already exists.\n",
            "- '@type': type.googleapis.com/google.rpc.BadRequest\n",
            "  fieldViolations:\n",
            "  - description: A version with the same name already exists.\n",
            "    field: version.name\n"
          ],
          "name": "stdout"
        }
      ]
    },
    {
      "cell_type": "code",
      "metadata": {
        "colab_type": "code",
        "id": "K5OPH4rcgJTI",
        "colab": {}
      },
      "source": [
        "import json\n",
        "with open('input.json', 'w') as outfile:\n",
        "  json.dump(test[0], outfile)"
      ],
      "execution_count": 0,
      "outputs": []
    },
    {
      "cell_type": "code",
      "metadata": {
        "colab_type": "code",
        "id": "cX4Eg-OWgYLA",
        "outputId": "e08f7cab-dea8-495b-df0d-4dd53e91ec3a",
        "colab": {
          "base_uri": "https://localhost:8080/",
          "height": 68
        }
      },
      "source": [
        "!gsutil cp input.json $GCS_BUCKET"
      ],
      "execution_count": 0,
      "outputs": [
        {
          "output_type": "stream",
          "text": [
            "Copying file://input.json [Content-Type=application/json]...\n",
            "/ [1 files][  105.0 B/  105.0 B]                                                \n",
            "Operation completed over 1 objects/105.0 B.                                      \n"
          ],
          "name": "stdout"
        }
      ]
    },
    {
      "cell_type": "code",
      "metadata": {
        "colab_type": "code",
        "id": "fi4s4noUgdAu",
        "outputId": "d10aa431-e273-4541-b85e-302315ddd7ee",
        "colab": {
          "base_uri": "https://localhost:8080/",
          "height": 34
        }
      },
      "source": [
        "! gcloud ai-platform predict --model $MODEL_NAME \\\n",
        "        --version $VERSION_NAME \\\n",
        "        --json-instances $JSON_INSTANCE"
      ],
      "execution_count": 0,
      "outputs": [
        {
          "output_type": "stream",
          "text": [
            "[0]\n"
          ],
          "name": "stdout"
        }
      ]
    },
    {
      "cell_type": "code",
      "metadata": {
        "colab_type": "code",
        "id": "xOOyX3xbghPm",
        "outputId": "11313fce-e627-4a6d-971e-571bc2634d33",
        "colab": {
          "base_uri": "https://localhost:8080/",
          "height": 34
        }
      },
      "source": [
        "!gsutil cat gs://thirude/input.json"
      ],
      "execution_count": 0,
      "outputs": [
        {
          "output_type": "stream",
          "text": [
            "[0.8952063573896005, -0.7142860416399761, 1.7165813693445733, -0.41609826573009145, -0.31715463559629536]"
          ],
          "name": "stdout"
        }
      ]
    },
    {
      "cell_type": "code",
      "metadata": {
        "colab_type": "code",
        "id": "6C2vWMh1gtB-",
        "colab": {}
      },
      "source": [
        ""
      ],
      "execution_count": 0,
      "outputs": []
    }
  ]
}